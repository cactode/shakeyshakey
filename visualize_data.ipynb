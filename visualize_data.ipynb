{
 "cells": [
  {
   "cell_type": "code",
   "execution_count": null,
   "metadata": {},
   "outputs": [],
   "source": [
    "from matplotlib import pyplot as plt\n",
    "import numpy as np\n",
    "import pandas as pd\n",
    "from serial import Serial"
   ]
  },
  {
   "cell_type": "code",
   "execution_count": null,
   "metadata": {},
   "outputs": [],
   "source": [
    "raw_data_1 = None\n",
    "raw_data_2 = None\n",
    "send_command = \"d\"\n",
    "with Serial(port=\"COM7\",baudrate=115200) as ser:\n",
    "    ser.reset_input_buffer()\n",
    "    ser.reset_output_buffer()\n",
    "    ser.write(send_command.encode('ascii'))\n",
    "    ser.flush()\n",
    "    raw_data_1 = ser.readline()\n",
    "    raw_data_2 = ser.readline()"
   ]
  },
  {
   "cell_type": "markdown",
   "metadata": {},
   "source": [
    "# Math Thoughts\n",
    "Fs is 3000Hz\n",
    "Sampling limit is 1500Hz\n",
    "FFT size is 1024\n",
    "Bin width is 1.36Hz\n"
   ]
  },
  {
   "cell_type": "code",
   "execution_count": null,
   "metadata": {},
   "outputs": [],
   "source": [
    "%matplotlib notebook\n",
    "data_adxl = np.array([int(number) for number in raw_data_1.strip().split()])\n",
    "data_fft = np.array([float(number) for number in raw_data_2.strip().split()])\n",
    "time = np.linspace(0, data_adxl.shape[0] / 3000, data_adxl.shape[0])\n",
    "frequency = np.linspace(0, 1500, data_fft.shape[0])\n",
    "fig, axs = plt.subplots(1,2)\n",
    "axs[0].set_title(\"FFT Data\")\n",
    "axs[0].set_xlabel(\"Frequency\")\n",
    "axs[0].set_ylabel(\"Complex magnitude\")\n",
    "axs[0].plot(frequency, data_fft)\n",
    "\n",
    "axs[1].set_title(\"Raw ADXL Data\")\n",
    "axs[1].set_xlabel(\"Time\")\n",
    "axs[1].set_ylabel(\"Value\")\n",
    "axs[1].plot(time, data_adxl, marker='o')\n",
    "print(f\"Total point count: {data_adxl.shape[0]}\")"
   ]
  }
 ],
 "metadata": {
  "kernelspec": {
   "display_name": "Python 3",
   "language": "python",
   "name": "python3"
  },
  "language_info": {
   "codemirror_mode": {
    "name": "ipython",
    "version": 3
   },
   "file_extension": ".py",
   "mimetype": "text/x-python",
   "name": "python",
   "nbconvert_exporter": "python",
   "pygments_lexer": "ipython3",
   "version": "3.7.3"
  }
 },
 "nbformat": 4,
 "nbformat_minor": 4
}
