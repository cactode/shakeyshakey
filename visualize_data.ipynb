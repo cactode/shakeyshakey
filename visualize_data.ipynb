{
 "cells": [
  {
   "cell_type": "code",
   "execution_count": 1,
   "metadata": {},
   "outputs": [],
   "source": [
    "from matplotlib import pyplot as plt\n",
    "import numpy as np\n",
    "import pandas as pd\n",
    "from serial import Serial"
   ]
  },
  {
   "cell_type": "code",
   "execution_count": null,
   "metadata": {},
   "outputs": [],
   "source": [
    "raw_data = None\n",
    "with Serial(port=\"COM5\",baudrate=115200) as ser:\n",
    "    ser.reset_input_buffer()\n",
    "    ser.reset_output_buffer()\n",
    "    ser.write(\"d\".encode('ascii'))\n",
    "    ser.flush()\n",
    "    raw_data = ser.readline()"
   ]
  },
  {
   "cell_type": "markdown",
   "metadata": {},
   "source": [
    "# Math Thoughts\n",
    "Fs is 3000Hz\n",
    "Sampling limit is 1500Hz\n",
    "FFT size is 2048\n",
    "Bin width is 1.36Hz\n"
   ]
  },
  {
   "cell_type": "code",
   "execution_count": null,
   "metadata": {},
   "outputs": [],
   "source": [
    "data = np.array([float(number) for number in raw_data.strip().split()])\n",
    "frequency = np.linspace(0, 1500, data.shape[0])\n",
    "fig, ax = plt.subplots()\n",
    "ax.set_title(\"FFT Data\")\n",
    "ax.set_xlabel(\"Frequency\")\n",
    "ax.set_ylabel(\"Complex magnitude\")\n",
    "ax.plot(frequency, data)"
   ]
  }
 ],
 "metadata": {
  "kernelspec": {
   "display_name": "Python 3",
   "language": "python",
   "name": "python3"
  },
  "language_info": {
   "codemirror_mode": {
    "name": "ipython",
    "version": 3
   },
   "file_extension": ".py",
   "mimetype": "text/x-python",
   "name": "python",
   "nbconvert_exporter": "python",
   "pygments_lexer": "ipython3",
   "version": "3.8.5"
  }
 },
 "nbformat": 4,
 "nbformat_minor": 4
}
